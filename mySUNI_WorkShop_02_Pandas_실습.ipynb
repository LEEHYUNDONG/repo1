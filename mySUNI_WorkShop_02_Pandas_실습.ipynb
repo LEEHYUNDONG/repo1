{
  "cells": [
    {
      "cell_type": "code",
      "execution_count": null,
      "metadata": {
        "id": "cpHhOxkqlq1w"
      },
      "outputs": [],
      "source": [
        "import pandas as pd\n",
        "import numpy as np"
      ]
    },
    {
      "cell_type": "markdown",
      "metadata": {
        "id": "Bc8M_rjmlq2C"
      },
      "source": [
        "# 데이터 프레임 생성\n",
        "1) 100에서 200 사이의 값을 60개를 생성합니다(np.random.randint 이용)\n",
        "\n",
        "2) 생성한 결과를 12,5 형태로 변환합니다.\n",
        "\n",
        "3) 변환된 데이터를 이용하여 df 데이터 프레임을 생성합니다."
      ]
    },
    {
      "cell_type": "code",
      "execution_count": null,
      "metadata": {
        "scrolled": true,
        "id": "EKi-j36Blq2I"
      },
      "outputs": [],
      "source": [
        "#코드를 입력해 주세요\n",
        "np.random.seed(1234)\n",
        "df = pd.DataFrame(np.random.randint(100,200,60).reshape(12, 5))\n",
        "df"
      ]
    },
    {
      "cell_type": "markdown",
      "metadata": {
        "id": "Lwaa_chKlq2L"
      },
      "source": [
        "# 컬럼명 변경\n",
        "- 컬럼명을 ['P01', 'P02', 'P03', 'P04', 'P05']로 수정하세요."
      ]
    },
    {
      "cell_type": "code",
      "execution_count": null,
      "metadata": {
        "id": "STvdcs3Ylq2M"
      },
      "outputs": [],
      "source": [
        "#코드를 입력해 주세요\n",
        "# columns 속성 이용\n"
      ]
    },
    {
      "cell_type": "markdown",
      "metadata": {
        "id": "kx0Zg_x5lq2P"
      },
      "source": [
        "# 인덱스 변경\n",
        "- 인덱스를 2020년 1월 부터 2020년 12월까지 마지막 요일로 설정하세요. "
      ]
    },
    {
      "cell_type": "code",
      "execution_count": null,
      "metadata": {
        "id": "Gzdy7_ftlq2R"
      },
      "outputs": [],
      "source": [
        "#코드를 입력해 주세요\n",
        "# index 생성 \n",
        "# date_range 함수 이용 (주기는 월(M)으로 설정)\n",
        "date = pd.date_range('20200101','20201231', freq='M')\n",
        "\n",
        "# index 속성 이용하여 date 변수를 index로 지정하세요.\n",
        "코드"
      ]
    },
    {
      "cell_type": "markdown",
      "metadata": {
        "id": "B3pSjCOXlq2U"
      },
      "source": [
        "# 데이터 선택\n",
        "- 2020년 4월부터 6월까지 행을 출력하세요."
      ]
    },
    {
      "cell_type": "code",
      "execution_count": null,
      "metadata": {
        "id": "n6jHRNtClq2W"
      },
      "outputs": [],
      "source": [
        "#코드를 입력해 주세요\n"
      ]
    },
    {
      "cell_type": "markdown",
      "metadata": {
        "id": "p8Zi8j1ylq2Y"
      },
      "source": [
        "- 2020년 05월 31일의 P01 컬럼 ~ P03 컬럼을 출력하세요."
      ]
    },
    {
      "cell_type": "code",
      "execution_count": null,
      "metadata": {
        "id": "fO0MWiWXlq2a"
      },
      "outputs": [],
      "source": [
        "#코드를 입력해 주세요\n"
      ]
    },
    {
      "cell_type": "markdown",
      "metadata": {
        "id": "6H7TpV6glq2b"
      },
      "source": [
        "- 2020년 01월 31일의 P01 컬럼부터 P05 컬럼의 값을 0으로 설정하세요."
      ]
    },
    {
      "cell_type": "code",
      "execution_count": null,
      "metadata": {
        "id": "WDTW4cNUlq2b"
      },
      "outputs": [],
      "source": [
        "#코드를 입력해 주세요\n",
        "# df.loc[행 인덱스, 열 인덱스] = 값\n"
      ]
    },
    {
      "cell_type": "markdown",
      "metadata": {
        "id": "8JJ5nJt7lq2c"
      },
      "source": [
        "- 각 행의 합을 이용하여 Total 컬럼을 생성하세요\n",
        "    - total = P01 + P02 + P03 + P04 + P05"
      ]
    },
    {
      "cell_type": "code",
      "execution_count": null,
      "metadata": {
        "id": "cFRWGkh9lq2d"
      },
      "outputs": [],
      "source": [
        "#코드를 입력해 주세요\n",
        "# df[새로운컬럼명] = 값\n"
      ]
    },
    {
      "cell_type": "markdown",
      "metadata": {
        "id": "XJdkhI9Tlq2e"
      },
      "source": [
        "- Total 컬럼을 Total 컬럼의 총합 값으로 나누어 Total Rate 컬럼을 생성하세요."
      ]
    },
    {
      "cell_type": "code",
      "execution_count": null,
      "metadata": {
        "scrolled": true,
        "id": "gu_eS-I5lq2f"
      },
      "outputs": [],
      "source": [
        "#코드를 입력해 주세요\n"
      ]
    },
    {
      "cell_type": "markdown",
      "metadata": {
        "id": "nJQAONBglq2g"
      },
      "source": [
        "- Total Rate 컬럼이 가장 낮은 3달을 출력하세요."
      ]
    },
    {
      "cell_type": "code",
      "execution_count": null,
      "metadata": {
        "id": "rOv3FcBtlq2g"
      },
      "outputs": [],
      "source": [
        "#코드를 입력해 주세요\n"
      ]
    },
    {
      "cell_type": "markdown",
      "metadata": {
        "id": "TnGB58H1lq2i"
      },
      "source": [
        "- Total 값이 700 미만인 데이터를 출력하세요."
      ]
    },
    {
      "cell_type": "code",
      "execution_count": null,
      "metadata": {
        "id": "Vo0GyTXFlq2j"
      },
      "outputs": [],
      "source": [
        "#코드를 입력해 주세요\n"
      ]
    },
    {
      "cell_type": "markdown",
      "metadata": {
        "id": "6xd8uocOlq2j"
      },
      "source": [
        "- Total 값이 700 미만이면 Bad 700 이상이면 Good의 값을 가지는 state 컬럼을 생성하세요."
      ]
    },
    {
      "cell_type": "code",
      "execution_count": null,
      "metadata": {
        "id": "K-zUcs5Flq2k"
      },
      "outputs": [],
      "source": [
        "#코드를 입력해 주세요\n",
        "df.loc[조건, 컬럼명] = 값 # Bad\n",
        "df.loc[조건, 컬럼명] = 값 # Good"
      ]
    },
    {
      "cell_type": "markdown",
      "metadata": {
        "id": "rhKAJgv1lq2l"
      },
      "source": [
        "- state 컬럼의 Good과 Bad의 갯수를 계산하세요."
      ]
    },
    {
      "cell_type": "code",
      "execution_count": null,
      "metadata": {
        "id": "j3VGqAlllq2m"
      },
      "outputs": [],
      "source": [
        "#코드를 입력해 주세요\n"
      ]
    },
    {
      "cell_type": "markdown",
      "metadata": {
        "id": "1aoNxr8Flq2m"
      },
      "source": [
        "- 합계 행을 추가하세요."
      ]
    },
    {
      "cell_type": "code",
      "execution_count": null,
      "metadata": {
        "id": "QqamrX6xlq2m"
      },
      "outputs": [],
      "source": [
        "#코드를 입력해 주세요\n",
        "df.loc[행 이름, 열 범위] = 값"
      ]
    },
    {
      "cell_type": "markdown",
      "metadata": {
        "id": "lebWB5Fplq2n"
      },
      "source": [
        "- Total 컬럼의 합계 값을 이용하여 P01부터 P05까지의 비율을 계산 후 합계 비율 행을 추가하세요."
      ]
    },
    {
      "cell_type": "code",
      "execution_count": null,
      "metadata": {
        "id": "2SgTR20klq2n"
      },
      "outputs": [],
      "source": [
        "#코드를 입력해 주세요\n",
        "df.loc[행 이름, 열 범위] = 값"
      ]
    }
  ],
  "metadata": {
    "kernelspec": {
      "display_name": "Python 3",
      "language": "python",
      "name": "python3"
    },
    "language_info": {
      "codemirror_mode": {
        "name": "ipython",
        "version": 3
      },
      "file_extension": ".py",
      "mimetype": "text/x-python",
      "name": "python",
      "nbconvert_exporter": "python",
      "pygments_lexer": "ipython3",
      "version": "3.8.5"
    },
    "colab": {
      "provenance": []
    }
  },
  "nbformat": 4,
  "nbformat_minor": 0
}